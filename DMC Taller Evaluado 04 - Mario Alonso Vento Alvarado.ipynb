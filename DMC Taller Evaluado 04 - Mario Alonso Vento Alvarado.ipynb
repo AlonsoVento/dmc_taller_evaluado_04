{
 "cells": [
  {
   "cell_type": "markdown",
   "metadata": {
    "application/vnd.databricks.v1+cell": {
     "cellMetadata": {},
     "inputWidgets": {},
     "nuid": "68173f91-395a-4ae9-bd5f-56fc5379afe2",
     "showTitle": false,
     "tableResultSettingsMap": {},
     "title": ""
    }
   },
   "source": [
    "### Desarrollo Taller 04 - Databricks\n",
    "#### Mario Alonso Vento Alvarado"
   ]
  },
  {
   "cell_type": "markdown",
   "metadata": {
    "application/vnd.databricks.v1+cell": {
     "cellMetadata": {},
     "inputWidgets": {},
     "nuid": "049e59fb-7247-4ac8-9e0f-0802bc6c94f4",
     "showTitle": false,
     "tableResultSettingsMap": {},
     "title": ""
    }
   },
   "source": [
    "####Arquitectura Medallion"
   ]
  },
  {
   "cell_type": "code",
   "execution_count": 0,
   "metadata": {
    "application/vnd.databricks.v1+cell": {
     "cellMetadata": {
      "byteLimit": 2048000,
      "rowLimit": 10000
     },
     "inputWidgets": {},
     "nuid": "11eeafc2-2298-4769-b285-7d7d09351291",
     "showTitle": false,
     "tableResultSettingsMap": {},
     "title": ""
    }
   },
   "outputs": [],
   "source": [
    "catalog_name = \"dmc_taller04\"\n",
    "schema_bronze = \"bronze\"\n",
    "schema_silver = \"silver\"\n",
    "schema_gold = \"gold\""
   ]
  },
  {
   "cell_type": "code",
   "execution_count": 0,
   "metadata": {
    "application/vnd.databricks.v1+cell": {
     "cellMetadata": {
      "byteLimit": 2048000,
      "rowLimit": 10000
     },
     "inputWidgets": {},
     "nuid": "25267882-75ea-48a8-8b5f-2a4a2439ceba",
     "showTitle": false,
     "tableResultSettingsMap": {},
     "title": ""
    }
   },
   "outputs": [],
   "source": [
    "spark.sql(f\"CREATE CATALOG IF NOT EXISTS {catalog_name}\")"
   ]
  },
  {
   "cell_type": "code",
   "execution_count": 0,
   "metadata": {
    "application/vnd.databricks.v1+cell": {
     "cellMetadata": {
      "byteLimit": 2048000,
      "rowLimit": 10000
     },
     "inputWidgets": {},
     "nuid": "78ea1f00-abd7-4655-8bbb-eedbd30e26a7",
     "showTitle": false,
     "tableResultSettingsMap": {},
     "title": ""
    }
   },
   "outputs": [],
   "source": [
    "spark.sql(f\"CREATE SCHEMA IF NOT EXISTS {catalog_name}.{schema_bronze}\")\n",
    "spark.sql(f\"CREATE SCHEMA IF NOT EXISTS {catalog_name}.{schema_silver}\")\n",
    "spark.sql(f\"CREATE SCHEMA IF NOT EXISTS {catalog_name}.{schema_gold}\")"
   ]
  },
  {
   "cell_type": "code",
   "execution_count": 0,
   "metadata": {
    "application/vnd.databricks.v1+cell": {
     "cellMetadata": {
      "byteLimit": 2048000,
      "rowLimit": 10000
     },
     "inputWidgets": {},
     "nuid": "629f70de-b4ad-42e8-b171-0dd11f3c76f6",
     "showTitle": false,
     "tableResultSettingsMap": {},
     "title": ""
    }
   },
   "outputs": [],
   "source": [
    "spark.sql(f\"CREATE VOLUME IF NOT EXISTS {catalog_name}.default.input\")"
   ]
  },
  {
   "cell_type": "markdown",
   "metadata": {
    "application/vnd.databricks.v1+cell": {
     "cellMetadata": {},
     "inputWidgets": {},
     "nuid": "fccbc9e5-5a64-46e2-97bc-e553e84738c7",
     "showTitle": false,
     "tableResultSettingsMap": {},
     "title": ""
    }
   },
   "source": [
    "### Bronze"
   ]
  },
  {
   "cell_type": "code",
   "execution_count": 0,
   "metadata": {
    "application/vnd.databricks.v1+cell": {
     "cellMetadata": {
      "byteLimit": 2048000,
      "rowLimit": 10000
     },
     "inputWidgets": {},
     "nuid": "99efeecd-0433-4caf-8e81-9e443361f3ed",
     "showTitle": false,
     "tableResultSettingsMap": {},
     "title": ""
    }
   },
   "outputs": [],
   "source": [
    "spark.sql(f\"\"\"\n",
    "CREATE OR REPLACE TABLE {catalog_name}.{schema_bronze}.clientes_raw(\n",
    "  id_cliente string,\n",
    "  nombre string,\n",
    "  apellido string,\n",
    "  email string,\n",
    "  segmento string,\n",
    "  fecha_registro string,\n",
    "  ingest_at timestamp\n",
    ")\n",
    "\"\"\"\n",
    ")"
   ]
  },
  {
   "cell_type": "code",
   "execution_count": 0,
   "metadata": {
    "application/vnd.databricks.v1+cell": {
     "cellMetadata": {
      "byteLimit": 2048000,
      "rowLimit": 10000
     },
     "inputWidgets": {},
     "nuid": "284eab03-9d16-4532-8e47-60389107f236",
     "showTitle": false,
     "tableResultSettingsMap": {},
     "title": ""
    }
   },
   "outputs": [],
   "source": [
    "spark.sql(f\"\"\"\n",
    "CREATE OR REPLACE TABLE {catalog_name}.{schema_bronze}.envios_base_raw(\n",
    "  id_envio string,\n",
    "  id_linea string,\n",
    "  id_cliente string,\n",
    "  id_sucursal string,\n",
    "  id_ruta string,\n",
    "  fecha_envio string,\n",
    "  estado string,\n",
    "  peso_kg string,\n",
    "  costo_envio string,\n",
    "  updated_at string,\n",
    "  ingest_at timestamp\n",
    ")\n",
    "\"\"\"\n",
    ")"
   ]
  },
  {
   "cell_type": "code",
   "execution_count": 0,
   "metadata": {
    "application/vnd.databricks.v1+cell": {
     "cellMetadata": {
      "byteLimit": 2048000,
      "rowLimit": 10000
     },
     "inputWidgets": {},
     "nuid": "6d591f1b-e66d-4e33-9395-ccb5e0f641a5",
     "showTitle": false,
     "tableResultSettingsMap": {},
     "title": ""
    }
   },
   "outputs": [],
   "source": [
    "spark.sql(f\"\"\"\n",
    "CREATE OR REPLACE TABLE {catalog_name}.{schema_bronze}.rutas_raw(\n",
    "  id_ruta string,\n",
    "  origen string,\n",
    "  destino string,\n",
    "  distancia_km string,\n",
    "  tiempo_estimado_horas string,\n",
    "  ingest_at timestamp\n",
    ")\n",
    "\"\"\"\n",
    ")"
   ]
  },
  {
   "cell_type": "code",
   "execution_count": 0,
   "metadata": {
    "application/vnd.databricks.v1+cell": {
     "cellMetadata": {
      "byteLimit": 2048000,
      "rowLimit": 10000
     },
     "inputWidgets": {},
     "nuid": "5af490f2-3dd8-4a44-9328-6ea0a9c279f0",
     "showTitle": false,
     "tableResultSettingsMap": {},
     "title": ""
    }
   },
   "outputs": [],
   "source": [
    "spark.sql(f\"\"\"\n",
    "CREATE OR REPLACE TABLE {catalog_name}.{schema_bronze}.sucursales_raw(\n",
    "  id_sucursal string,\n",
    "  ciudad string,\n",
    "  distrito string,\n",
    "  region string,\n",
    "  tipo string,\n",
    "  fecha_apertura string,\n",
    "  ingest_at timestamp\n",
    ")\n",
    "\"\"\"\n",
    ")"
   ]
  },
  {
   "cell_type": "code",
   "execution_count": 0,
   "metadata": {
    "application/vnd.databricks.v1+cell": {
     "cellMetadata": {
      "byteLimit": 2048000,
      "rowLimit": 10000
     },
     "inputWidgets": {},
     "nuid": "6446f8b2-d41e-4f2f-a788-4dbd589532ec",
     "showTitle": false,
     "tableResultSettingsMap": {},
     "title": ""
    }
   },
   "outputs": [],
   "source": [
    "spark.sql(f\"\"\"\n",
    "CREATE OR REPLACE TABLE {catalog_name}.{schema_bronze}.envios_incremento_raw(\n",
    "  id_envio string,\n",
    "  id_linea string,\n",
    "  id_cliente string,\n",
    "  id_sucursal string,\n",
    "  id_ruta string,\n",
    "  fecha_envio string,\n",
    "  estado string,\n",
    "  peso_kg string,\n",
    "  costo_envio string,\n",
    "  updated_at string,\n",
    "  ingest_at timestamp\n",
    ")\n",
    "\"\"\"\n",
    ")"
   ]
  },
  {
   "cell_type": "code",
   "execution_count": 0,
   "metadata": {
    "application/vnd.databricks.v1+cell": {
     "cellMetadata": {
      "byteLimit": 2048000,
      "rowLimit": 10000
     },
     "inputWidgets": {},
     "nuid": "393cddf1-b8a4-4985-a331-df80a49a3223",
     "showTitle": false,
     "tableResultSettingsMap": {},
     "title": ""
    }
   },
   "outputs": [],
   "source": [
    "clientes.write.format(\"delta\").mode(\"overwrite\").saveAsTable(f\"{catalog_name}.{schema_bronze}.clientes_raw\")\n",
    "envios_base.write.format(\"delta\").mode(\"overwrite\").saveAsTable(f\"{catalog_name}.{schema_bronze}.envios_base_raw\")\n",
    "rutas.write.format(\"delta\").mode(\"overwrite\").saveAsTable(f\"{catalog_name}.{schema_bronze}.rutas_raw\")\n",
    "sucursales.write.format(\"delta\").mode(\"overwrite\").saveAsTable(f\"{catalog_name}.{schema_bronze}.sucursales_raw\")\n",
    "envios_incremento.write.format(\"delta\").mode(\"overwrite\").saveAsTable(f\"{catalog_name}.{schema_bronze}.envios_incremento_raw\")"
   ]
  },
  {
   "cell_type": "markdown",
   "metadata": {
    "application/vnd.databricks.v1+cell": {
     "cellMetadata": {},
     "inputWidgets": {},
     "nuid": "dd91def7-28fc-490b-84a2-1a403234dcca",
     "showTitle": false,
     "tableResultSettingsMap": {},
     "title": ""
    }
   },
   "source": [
    "### Silver"
   ]
  },
  {
   "cell_type": "code",
   "execution_count": 0,
   "metadata": {
    "application/vnd.databricks.v1+cell": {
     "cellMetadata": {
      "byteLimit": 2048000,
      "rowLimit": 10000
     },
     "inputWidgets": {},
     "nuid": "069c949d-6a65-46b2-adf6-cece41d61325",
     "showTitle": false,
     "tableResultSettingsMap": {},
     "title": ""
    }
   },
   "outputs": [],
   "source": [
    "from pyspark.sql.functions import col, trim, initcap, when, lit, year, month, avg, count, lag, sum as spark_sum, row_number\n",
    "from pyspark.sql.window import Window"
   ]
  },
  {
   "cell_type": "code",
   "execution_count": 0,
   "metadata": {
    "application/vnd.databricks.v1+cell": {
     "cellMetadata": {
      "byteLimit": 2048000,
      "rowLimit": 10000
     },
     "inputWidgets": {},
     "nuid": "a40daf1e-700b-493b-8c28-a1040b9789f5",
     "showTitle": false,
     "tableResultSettingsMap": {},
     "title": ""
    }
   },
   "outputs": [],
   "source": [
    "path_base = \"/Volumes/dmc_taller04/default/input\"\n",
    "\n",
    "path_clientes = f\"{path_base}/clientes.csv\"\n",
    "path_envios_base = f\"{path_base}/envios_base.csv\"\n",
    "path_rutas = f\"{path_base}/rutas.csv\"\n",
    "path_sucursales = f\"{path_base}/sucursales.csv\"\n",
    "path_envios_incremento = f\"{path_base}/envios_incremento.csv\""
   ]
  },
  {
   "cell_type": "code",
   "execution_count": 0,
   "metadata": {
    "application/vnd.databricks.v1+cell": {
     "cellMetadata": {
      "byteLimit": 2048000,
      "rowLimit": 10000
     },
     "inputWidgets": {},
     "nuid": "da18b628-ecbf-4874-a44a-91bcf3c266fb",
     "showTitle": false,
     "tableResultSettingsMap": {},
     "title": ""
    }
   },
   "outputs": [],
   "source": [
    "# Lectura\n",
    "clientes = (\n",
    "    spark.read.option(\"header\", True).csv(path_clientes)\n",
    "    .withColumn(\"ingest_at\", current_timestamp())\n",
    ")\n",
    "\n",
    "envios_base = (\n",
    "    spark.read.option(\"header\", True).csv(path_envios_base)\n",
    "    .withColumn(\"ingest_at\", current_timestamp())\n",
    ")\n",
    "\n",
    "rutas = (\n",
    "    spark.read.option(\"header\", True).csv(path_rutas)\n",
    "    .withColumn(\"ingest_at\", current_timestamp())\n",
    ")\n",
    "\n",
    "sucursales = (\n",
    "    spark.read.option(\"header\", True).csv(path_sucursales)\n",
    "    .withColumn(\"ingest_at\", current_timestamp())\n",
    ")\n",
    "\n",
    "envios_incremento = (\n",
    "    spark.read.option(\"header\", True).csv(path_envios_incremento)\n",
    "    .withColumn(\"ingest_at\", current_timestamp())\n",
    ")"
   ]
  },
  {
   "cell_type": "code",
   "execution_count": 0,
   "metadata": {
    "application/vnd.databricks.v1+cell": {
     "cellMetadata": {
      "byteLimit": 2048000,
      "rowLimit": 10000
     },
     "inputWidgets": {},
     "nuid": "a0f61e16-a94c-4da1-a1a4-5d99c033b91a",
     "showTitle": false,
     "tableResultSettingsMap": {},
     "title": ""
    }
   },
   "outputs": [],
   "source": [
    "# Clientes (sin nulos, nombres normalizados)\n",
    "silver_clientes = (\n",
    "    spark.table(f\"{catalog_name}.{schema_bronze}.clientes_raw\")\n",
    "    .withColumn(\"nombre\", initcap(trim(col(\"nombre\"))))\n",
    "    .withColumn(\"apellido\", initcap(trim(col(\"apellido\"))))\n",
    "    .dropna(subset=[\"id_cliente\"])\n",
    "    .dropDuplicates([\"id_cliente\"])\n",
    ")"
   ]
  },
  {
   "cell_type": "code",
   "execution_count": 0,
   "metadata": {
    "application/vnd.databricks.v1+cell": {
     "cellMetadata": {
      "byteLimit": 2048000,
      "rowLimit": 10000
     },
     "inputWidgets": {},
     "nuid": "1c0d1bf8-c13d-4ccb-ac84-c0ecf6f593dd",
     "showTitle": false,
     "tableResultSettingsMap": {},
     "title": ""
    }
   },
   "outputs": [],
   "source": [
    "# Rutas (distancia y tiempo estimado normalizados)\n",
    "silver_rutas = (\n",
    "    spark.table(f\"{catalog_name}.{schema_bronze}.rutas_raw\")\n",
    "    .withColumn(\"distancia_km\", col(\"distancia_km\").cast(\"double\"))\n",
    "    .withColumn(\"tiempo_estimado_horas\", col(\"tiempo_estimado_horas\").cast(\"double\"))\n",
    "    .dropna(subset=[\"id_ruta\"])\n",
    "    .dropDuplicates([\"id_ruta\"])\n",
    ")"
   ]
  },
  {
   "cell_type": "code",
   "execution_count": 0,
   "metadata": {
    "application/vnd.databricks.v1+cell": {
     "cellMetadata": {
      "byteLimit": 2048000,
      "rowLimit": 10000
     },
     "inputWidgets": {},
     "nuid": "a4f7c484-a1ac-4865-8111-0b7a7c087e8a",
     "showTitle": false,
     "tableResultSettingsMap": {},
     "title": ""
    }
   },
   "outputs": [],
   "source": [
    "# Sucursales (ciudad/distrito/region normalizados)\n",
    "silver_sucursales = (\n",
    "    spark.table(f\"{catalog_name}.{schema_bronze}.sucursales_raw\")\n",
    "    .withColumn(\"ciudad\", initcap(trim(col(\"ciudad\"))))\n",
    "    .withColumn(\"distrito\", initcap(trim(col(\"distrito\"))))\n",
    "    .withColumn(\"region\", initcap(trim(col(\"region\"))))\n",
    "    .dropna(subset=[\"id_sucursal\"])\n",
    "    .dropDuplicates([\"id_sucursal\"])\n",
    ")"
   ]
  },
  {
   "cell_type": "code",
   "execution_count": 0,
   "metadata": {
    "application/vnd.databricks.v1+cell": {
     "cellMetadata": {
      "byteLimit": 2048000,
      "rowLimit": 10000
     },
     "inputWidgets": {},
     "nuid": "4f84eb80-fd9a-4a94-9ac0-5958288981b7",
     "showTitle": false,
     "tableResultSettingsMap": {},
     "title": ""
    }
   },
   "outputs": [],
   "source": [
    "# Envios_base (con monto_envio y tipos correctos)\n",
    "silver_envios_base = (\n",
    "    spark.table(f\"{catalog_name}.{schema_bronze}.envios_base_raw\")\n",
    "    .withColumn(\"peso_kg\", col(\"peso_kg\").cast(\"double\"))\n",
    "    .withColumn(\"costo_envio\", col(\"costo_envio\").cast(\"double\"))\n",
    "    .withColumn(\"monto_envio\", col(\"costo_envio\") * col(\"peso_kg\"))\n",
    "    .dropna(subset=[\"id_envio\"])\n",
    "    .dropDuplicates([\"id_envio\"])\n",
    ")"
   ]
  },
  {
   "cell_type": "code",
   "execution_count": 0,
   "metadata": {
    "application/vnd.databricks.v1+cell": {
     "cellMetadata": {
      "byteLimit": 2048000,
      "rowLimit": 10000
     },
     "inputWidgets": {},
     "nuid": "1bfd25a5-e48d-42d0-a03e-cc0287136beb",
     "showTitle": false,
     "tableResultSettingsMap": {},
     "title": ""
    }
   },
   "outputs": [],
   "source": [
    "display(envios_base)"
   ]
  },
  {
   "cell_type": "code",
   "execution_count": 0,
   "metadata": {
    "application/vnd.databricks.v1+cell": {
     "cellMetadata": {
      "byteLimit": 2048000,
      "rowLimit": 10000
     },
     "inputWidgets": {},
     "nuid": "9d2d0dd1-9599-4241-b879-895171768534",
     "showTitle": false,
     "tableResultSettingsMap": {},
     "title": ""
    }
   },
   "outputs": [],
   "source": [
    "# Envios_incremento_dedup (deduplicado por BK con updated_at más reciente)\n",
    "window_spec = Window.partitionBy(\"id_envio\", \"id_linea\").orderBy(col(\"updated_at\").desc())\n",
    "silver_envios_incremento_dedup = (\n",
    "    spark.table(f\"{catalog_name}.{schema_bronze}.envios_incremento_raw\")\n",
    "    .withColumn(\"row_number\", row_number().over(window_spec))\n",
    "    .filter(col(\"row_number\") == 1)\n",
    "    .drop(\"row_number\")\n",
    ")\n",
    "\n",
    "# Aplicar MERGE INTO para consolidar incrementales en Gold\n",
    "silver_envios_incremento_dedup.createOrReplaceTempView(\"incremento_dedup\")\n",
    "\n",
    "spark.sql(f\"\"\"\n",
    "MERGE INTO {catalog_name}.{schema_silver}.envios_base AS target\n",
    "USING incremento_dedup AS source\n",
    "ON target.id_envio = source.id_envio AND target.id_linea = source.id_linea\n",
    "WHEN MATCHED THEN\n",
    "  UPDATE SET\n",
    "    id_cliente = source.id_cliente,\n",
    "    id_sucursal = source.id_sucursal,\n",
    "    id_ruta = source.id_ruta,\n",
    "    fecha_envio = source.fecha_envio,\n",
    "    estado = source.estado,\n",
    "    peso_kg = source.peso_kg,\n",
    "    costo_envio = source.costo_envio,\n",
    "    updated_at = source.updated_at,\n",
    "    ingest_at = source.ingest_at\n",
    "WHEN NOT MATCHED THEN\n",
    "  INSERT (\n",
    "    id_envio,\n",
    "    id_linea,\n",
    "    id_cliente,\n",
    "    id_sucursal,\n",
    "    id_ruta,\n",
    "    fecha_envio,\n",
    "    estado,\n",
    "    peso_kg,\n",
    "    costo_envio,\n",
    "    updated_at,\n",
    "    ingest_at\n",
    "  ) VALUES (\n",
    "    source.id_envio,\n",
    "    source.id_linea,\n",
    "    source.id_cliente,\n",
    "    source.id_sucursal,\n",
    "    source.id_ruta,\n",
    "    source.fecha_envio,\n",
    "    source.estado,\n",
    "    source.peso_kg,\n",
    "    source.costo_envio,\n",
    "    source.updated_at,\n",
    "    source.ingest_at\n",
    "  )\n",
    "\"\"\")"
   ]
  },
  {
   "cell_type": "code",
   "execution_count": 0,
   "metadata": {
    "application/vnd.databricks.v1+cell": {
     "cellMetadata": {
      "byteLimit": 2048000,
      "rowLimit": 10000
     },
     "inputWidgets": {},
     "nuid": "34928c02-39d5-40f0-a7b0-effcf893302b",
     "showTitle": false,
     "tableResultSettingsMap": {},
     "title": ""
    }
   },
   "outputs": [],
   "source": [
    "display(silver_envios_incremento_dedup)"
   ]
  },
  {
   "cell_type": "code",
   "execution_count": 0,
   "metadata": {
    "application/vnd.databricks.v1+cell": {
     "cellMetadata": {
      "byteLimit": 2048000,
      "rowLimit": 10000
     },
     "inputWidgets": {},
     "nuid": "abe16a07-ad62-49b0-b65d-7c4e493bdaba",
     "showTitle": false,
     "tableResultSettingsMap": {},
     "title": ""
    }
   },
   "outputs": [],
   "source": [
    "# Ranking de clientes por número total de envíos\n",
    "window_spec_rank = Window.orderBy(col(\"total_envios\").desc())\n",
    "ranking_clientes = (\n",
    "    silver_envios_base.groupBy(\"id_cliente\")\n",
    "    .agg(count(\"id_envio\").alias(\"total_envios\"))\n",
    "    .withColumn(\"rank\", row_number().over(window_spec_rank))\n",
    ")"
   ]
  },
  {
   "cell_type": "code",
   "execution_count": 0,
   "metadata": {
    "application/vnd.databricks.v1+cell": {
     "cellMetadata": {
      "byteLimit": 2048000,
      "rowLimit": 10000
     },
     "inputWidgets": {},
     "nuid": "c25a968f-6894-4373-bf27-96a075c2ccd4",
     "showTitle": false,
     "tableResultSettingsMap": {},
     "title": ""
    }
   },
   "outputs": [],
   "source": [
    "display(ranking_clientes)"
   ]
  },
  {
   "cell_type": "code",
   "execution_count": 0,
   "metadata": {
    "application/vnd.databricks.v1+cell": {
     "cellMetadata": {
      "byteLimit": 2048000,
      "rowLimit": 10000
     },
     "inputWidgets": {},
     "nuid": "1831839a-63b7-4012-8866-cc3f8aaf5639",
     "showTitle": false,
     "tableResultSettingsMap": {},
     "title": ""
    }
   },
   "outputs": [],
   "source": [
    "# Peso acumulado de envíos por cliente\n",
    "peso_acumulado_clientes = (\n",
    "    silver_envios_base.groupBy(\"id_cliente\")\n",
    "    .agg(spark_sum(\"peso_kg\").cast(\"decimal(10,2)\").alias(\"peso_acumulado\"))\n",
    ")"
   ]
  },
  {
   "cell_type": "code",
   "execution_count": 0,
   "metadata": {
    "application/vnd.databricks.v1+cell": {
     "cellMetadata": {
      "byteLimit": 2048000,
      "rowLimit": 10000
     },
     "inputWidgets": {},
     "nuid": "e99e7cf1-d646-42b3-a3ff-f530b0990191",
     "showTitle": false,
     "tableResultSettingsMap": {},
     "title": ""
    }
   },
   "outputs": [],
   "source": [
    "display(peso_acumulado_clientes)"
   ]
  },
  {
   "cell_type": "code",
   "execution_count": 0,
   "metadata": {
    "application/vnd.databricks.v1+cell": {
     "cellMetadata": {
      "byteLimit": 2048000,
      "rowLimit": 10000
     },
     "inputWidgets": {},
     "nuid": "ce73dde6-1dd1-4583-bef9-6b81512815d8",
     "showTitle": false,
     "tableResultSettingsMap": {},
     "title": ""
    }
   },
   "outputs": [],
   "source": [
    "# Variación de costo promedio de envíos por sucursal entre meses consecutivos\n",
    "window_spec_variation = Window.partitionBy(\"id_sucursal\").orderBy(\"year\", \"month\")\n",
    "costo_promedio_sucursal = (\n",
    "    silver_envios_base.withColumn(\"year\", year(col(\"fecha_envio\")))\n",
    "    .withColumn(\"month\", month(col(\"fecha_envio\")))\n",
    "    .groupBy(\"id_sucursal\", \"year\", \"month\")\n",
    "    .agg(avg(\"costo_envio\").alias(\"costo_promedio\"))\n",
    "    .withColumn(\"costo_promedio_anterior\", lag(\"costo_promedio\").over(window_spec_variation))\n",
    "    .withColumn(\"variacion_costo_promedio\", col(\"costo_promedio\") - col(\"costo_promedio_anterior\"))\n",
    "    .withColumn(\"costo_promedio\", col(\"costo_promedio\").cast(\"decimal(10,2)\"))\n",
    "    .withColumn(\"costo_promedio_anterior\", col(\"costo_promedio_anterior\").cast(\"decimal(10,2)\"))\n",
    "    .withColumn(\"variacion_costo_promedio\", col(\"variacion_costo_promedio\").cast(\"decimal(10,2)\"))\n",
    ")"
   ]
  },
  {
   "cell_type": "code",
   "execution_count": 0,
   "metadata": {
    "application/vnd.databricks.v1+cell": {
     "cellMetadata": {
      "byteLimit": 2048000,
      "rowLimit": 10000
     },
     "inputWidgets": {},
     "nuid": "8204e51a-0bc1-4dc8-9420-6c9137febccd",
     "showTitle": false,
     "tableResultSettingsMap": {},
     "title": ""
    }
   },
   "outputs": [],
   "source": [
    "display(costo_promedio_sucursal)"
   ]
  },
  {
   "cell_type": "code",
   "execution_count": 0,
   "metadata": {
    "application/vnd.databricks.v1+cell": {
     "cellMetadata": {
      "byteLimit": 2048000,
      "rowLimit": 10000
     },
     "inputWidgets": {},
     "nuid": "7a730bb3-b6df-4689-843f-cf916651775c",
     "showTitle": false,
     "tableResultSettingsMap": {},
     "title": ""
    }
   },
   "outputs": [],
   "source": [
    "# Guardado de tablas Silver\n",
    "silver_clientes.write.format(\"delta\").mode(\"overwrite\").saveAsTable(f\"{catalog_name}.{schema_silver}.clientes\")\n",
    "silver_sucursales.write.format(\"delta\").mode(\"overwrite\").saveAsTable(f\"{catalog_name}.{schema_silver}.sucursales\")\n",
    "silver_rutas.write.format(\"delta\").mode(\"overwrite\").saveAsTable(f\"{catalog_name}.{schema_silver}.rutas\")\n",
    "silver_envios_base.write.format(\"delta\").mode(\"overwrite\").saveAsTable(f\"{catalog_name}.{schema_silver}.envios_base\")\n",
    "silver_envios_incremento_dedup.write.format(\"delta\").mode(\"overwrite\").saveAsTable(f\"{catalog_name}.{schema_silver}.envios_incremento_dedup\")\n",
    "ranking_clientes.write.format(\"delta\").mode(\"overwrite\").saveAsTable(f\"{catalog_name}.{schema_silver}.ranking_clientes\")\n",
    "peso_acumulado_clientes.write.format(\"delta\").mode(\"overwrite\").saveAsTable(f\"{catalog_name}.{schema_silver}.peso_acumulado_clientes\")\n",
    "costo_promedio_sucursal.write.format(\"delta\").mode(\"overwrite\").saveAsTable(f\"{catalog_name}.{schema_silver}.costo_promedio_sucursal\")"
   ]
  },
  {
   "cell_type": "markdown",
   "metadata": {
    "application/vnd.databricks.v1+cell": {
     "cellMetadata": {},
     "inputWidgets": {},
     "nuid": "90246163-776b-471b-aa78-533ab5103183",
     "showTitle": false,
     "tableResultSettingsMap": {},
     "title": ""
    }
   },
   "source": [
    "### Gold"
   ]
  },
  {
   "cell_type": "code",
   "execution_count": 0,
   "metadata": {
    "application/vnd.databricks.v1+cell": {
     "cellMetadata": {
      "byteLimit": 2048000,
      "rowLimit": 10000
     },
     "inputWidgets": {},
     "nuid": "2744bb93-9a4f-4a82-9d7b-6e8027a154a2",
     "showTitle": false,
     "tableResultSettingsMap": {
      "0": {
       "dataGridStateBlob": "{\"version\":1,\"tableState\":{\"columnPinning\":{\"left\":[\"#row_number#\"],\"right\":[]},\"columnSizing\":{},\"columnVisibility\":{}},\"settings\":{\"columns\":{}},\"syncTimestamp\":1756262218827}",
       "filterBlob": null,
       "queryPlanFiltersBlob": null,
       "tableResultIndex": 0
      }
     },
     "title": ""
    }
   },
   "outputs": [],
   "source": [
    "#se crea la dimensión TIEMPO en base a la data de la tabla q vemos\n",
    "#q es transaccional (donde hay mayor cantidad de registros)\n",
    "\n",
    "# eliminar valores nulos = .dropna()\n",
    "# eliminar valores duplicados = .distinct() || .dropDuplicates(subset=[\"columna\"])\n",
    "# eliminar columna = .drop(\"columna\")\n",
    "\n",
    "dim_tiempo = (\n",
    "    spark.table(f\"{catalog_name}.{schema_silver}.matriculas\")\n",
    "    .select(\n",
    "        col(\"fecha_matricula\").alias(\"fecha\")\n",
    "    ).dropna().distinct()\n",
    "    .withColumn(\"anio\", year(col(\"fecha\")))\n",
    "    .withColumn(\"mes\", month(col(\"fecha\")))\n",
    "    .withColumn(\"dia\", dayofmonth(col(\"fecha\")))\n",
    "    .withColumn(\"semestre\", concat_ws(\"-\",col(\"anio\"), when(col(\"mes\") <=7, lit(\"01\")).otherwise(lit(\"02\"))))\n",
    "    .withColumn(\"id_tiempo\", (col(\"anio\")*10000 + col(\"mes\")*100 + col(\"dia\")).cast(\"int\"))\n",
    ")\n",
    "\n",
    "display(dim_tiempo)"
   ]
  },
  {
   "cell_type": "code",
   "execution_count": 0,
   "metadata": {
    "application/vnd.databricks.v1+cell": {
     "cellMetadata": {
      "byteLimit": 2048000,
      "rowLimit": 10000
     },
     "inputWidgets": {},
     "nuid": "fa7d838f-f046-4376-accc-2eb25eed37c2",
     "showTitle": false,
     "tableResultSettingsMap": {},
     "title": ""
    }
   },
   "outputs": [],
   "source": [
    "dim_estudiante = (\n",
    "    spark.table(f\"{catalog_name}.{schema_silver}.estudiantes\")\n",
    "    .dropDuplicates([\"id_estudiante\"])\n",
    ")\n",
    "\n",
    "display(dim_estudiante)"
   ]
  },
  {
   "cell_type": "code",
   "execution_count": 0,
   "metadata": {
    "application/vnd.databricks.v1+cell": {
     "cellMetadata": {
      "byteLimit": 2048000,
      "rowLimit": 10000
     },
     "inputWidgets": {},
     "nuid": "82366026-2448-4fac-89ad-8f97501832b3",
     "showTitle": false,
     "tableResultSettingsMap": {},
     "title": ""
    }
   },
   "outputs": [],
   "source": [
    "dim_cursos = (\n",
    "    spark.table(f\"{catalog_name}.{schema_silver}.cursos\")\n",
    "    .dropDuplicates([\"id_curso\"])\n",
    ")\n",
    "\n",
    "display(dim_cursos)"
   ]
  },
  {
   "cell_type": "code",
   "execution_count": 0,
   "metadata": {
    "application/vnd.databricks.v1+cell": {
     "cellMetadata": {
      "byteLimit": 2048000,
      "rowLimit": 10000
     },
     "inputWidgets": {},
     "nuid": "14ace514-f71c-4680-93c7-4ef00eebc8c9",
     "showTitle": false,
     "tableResultSettingsMap": {},
     "title": ""
    }
   },
   "outputs": [],
   "source": [
    "dim_profesor = (\n",
    "    spark.table(f\"{catalog_name}.{schema_silver}.profesores\")\n",
    "    .dropDuplicates([\"id_profesor\"])\n",
    ")\n",
    "\n",
    "display(dim_profesor)"
   ]
  },
  {
   "cell_type": "code",
   "execution_count": 0,
   "metadata": {
    "application/vnd.databricks.v1+cell": {
     "cellMetadata": {
      "byteLimit": 2048000,
      "rowLimit": 10000
     },
     "inputWidgets": {},
     "nuid": "c92f37ad-3485-4c9d-9147-27fb2397b57a",
     "showTitle": false,
     "tableResultSettingsMap": {
      "0": {
       "dataGridStateBlob": "{\"version\":1,\"tableState\":{\"columnPinning\":{\"left\":[\"#row_number#\"],\"right\":[]},\"columnSizing\":{},\"columnVisibility\":{}},\"settings\":{\"columns\":{}},\"syncTimestamp\":1756263568869}",
       "filterBlob": null,
       "queryPlanFiltersBlob": null,
       "tableResultIndex": 0
      }
     },
     "title": ""
    }
   },
   "outputs": [],
   "source": [
    "fact_matriculas = (\n",
    "    spark.table(f\"{catalog_name}.{schema_silver}.matriculas\").alias(\"m\")\n",
    "    .join(\n",
    "        dim_tiempo.alias(\"t\"),\n",
    "        col(\"m.fecha_matricula\") == col(\"t.fecha\"),\n",
    "        \"left\"\n",
    "    )\n",
    "    .join(\n",
    "        dim_cursos.alias(\"c\"),\n",
    "        col(\"m.id_curso\") == col(\"c.id_curso\"),\n",
    "        \"left\"\n",
    "    )\n",
    "    .select(\n",
    "        col(\"m.id_matricula\"),\n",
    "        col(\"t.id_tiempo\"),\n",
    "        col(\"m.id_curso\"),\n",
    "        col(\"m.id_estudiante\"),\n",
    "        col(\"m.id_profesor\"),\n",
    "        col(\"c.creditos\").alias(\"creditos_curso\"),\n",
    "        col(\"m.nota_final\"),\n",
    "        col(\"m.aprobado\")\n",
    "    )\n",
    ")\n",
    "\n",
    "display(fact_matriculas)"
   ]
  },
  {
   "cell_type": "code",
   "execution_count": 0,
   "metadata": {
    "application/vnd.databricks.v1+cell": {
     "cellMetadata": {
      "byteLimit": 2048000,
      "rowLimit": 10000
     },
     "inputWidgets": {},
     "nuid": "afcab890-d411-49b0-9716-50eabaa770cd",
     "showTitle": false,
     "tableResultSettingsMap": {},
     "title": ""
    }
   },
   "outputs": [],
   "source": [
    "dim_tiempo.write.format(\"delta\").mode(\"overwrite\").saveAsTable(f\"{catalog_name}.{schema_gold}.dim_tiempo\")\n",
    "dim_estudiante.write.format(\"delta\").mode(\"overwrite\").saveAsTable(f\"{catalog_name}.{schema_gold}.dim_estudiante\")\n",
    "dim_cursos.write.format(\"delta\").mode(\"overwrite\").saveAsTable(f\"{catalog_name}.{schema_gold}.dim_cursos\")\n",
    "dim_profesor.write.format(\"delta\").mode(\"overwrite\").saveAsTable(f\"{catalog_name}.{schema_gold}.dim_profesor\")\n",
    "fact_matriculas.write.format(\"delta\").mode(\"overwrite\").saveAsTable(f\"{catalog_name}.{schema_gold}.fact_matriculas\")"
   ]
  },
  {
   "cell_type": "code",
   "execution_count": 0,
   "metadata": {
    "application/vnd.databricks.v1+cell": {
     "cellMetadata": {},
     "inputWidgets": {},
     "nuid": "e43bccaa-eb8e-4172-932e-72b2d1362f90",
     "showTitle": false,
     "tableResultSettingsMap": {},
     "title": ""
    }
   },
   "outputs": [],
   "source": [
    "%sql\n",
    "\n",
    "Sele...."
   ]
  },
  {
   "cell_type": "code",
   "execution_count": 0,
   "metadata": {
    "application/vnd.databricks.v1+cell": {
     "cellMetadata": {},
     "inputWidgets": {},
     "nuid": "a700fb7c-8bb9-4a4b-b124-55ff66c8d4f9",
     "showTitle": false,
     "tableResultSettingsMap": {},
     "title": ""
    }
   },
   "outputs": [],
   "source": [
    "spark.sql(\"select.....\")"
   ]
  },
  {
   "cell_type": "code",
   "execution_count": 0,
   "metadata": {
    "application/vnd.databricks.v1+cell": {
     "cellMetadata": {},
     "inputWidgets": {},
     "nuid": "02ee0816-7b1d-4312-a271-125f29c63aeb",
     "showTitle": false,
     "tableResultSettingsMap": {},
     "title": ""
    }
   },
   "outputs": [],
   "source": [
    "%sql\n",
    "\n",
    "CREATE OR REPLACE VIEW IF NOT EXISTS sesion_0701.gold.vw_kpi_carrera\n",
    "AS\n"
   ]
  },
  {
   "cell_type": "code",
   "execution_count": 0,
   "metadata": {
    "application/vnd.databricks.v1+cell": {
     "cellMetadata": {
      "byteLimit": 2048000,
      "rowLimit": 10000
     },
     "inputWidgets": {},
     "nuid": "4a948a5d-0d45-410f-8c89-e7b27aba30cc",
     "showTitle": false,
     "tableResultSettingsMap": {},
     "title": ""
    }
   },
   "outputs": [],
   "source": [
    "spark.sql(f\"\"\"\n",
    "    CREATE OR REPLACE VIEW {catalog_name}.{schema_gold}.vw_kpi_carrera\n",
    "    AS\n",
    "    SELECT \n",
    "    de.carrera,\n",
    "    COUNT(DISTINCT fm.id_estudiante) AS cantidad_alumnos,\n",
    "    AVG(fm.nota_final) AS promedio_notas,\n",
    "    SUM(fm.creditos_curso) AS creditos_totales\n",
    "    FROM {catalog_name}.{schema_gold}.fact_matriculas fm\n",
    "    LEFT JOIN {catalog_name}.{schema_gold}.dim_estudiante de ON fm.id_estudiante = de.id_estudiante\n",
    "    GROUP BY de.carrera\n",
    "\"\"\") "
   ]
  },
  {
   "cell_type": "code",
   "execution_count": 0,
   "metadata": {
    "application/vnd.databricks.v1+cell": {
     "cellMetadata": {
      "byteLimit": 2048000,
      "implicitDf": true,
      "rowLimit": 10000
     },
     "inputWidgets": {},
     "nuid": "9d093dc7-308b-411d-914e-444df9b0a5be",
     "showTitle": false,
     "tableResultSettingsMap": {
      "0": {
       "dataGridStateBlob": "{\"version\":1,\"tableState\":{\"columnPinning\":{\"left\":[\"#row_number#\"],\"right\":[]},\"columnSizing\":{},\"columnVisibility\":{}},\"settings\":{\"columns\":{}},\"syncTimestamp\":1756264736654}",
       "filterBlob": null,
       "queryPlanFiltersBlob": null,
       "tableResultIndex": 0
      }
     },
     "title": ""
    }
   },
   "outputs": [],
   "source": [
    "%sql\n",
    "\n",
    "select * from sesion_0701.gold.vw_kpi_carrera"
   ]
  }
 ],
 "metadata": {
  "application/vnd.databricks.v1+notebook": {
   "computePreferences": {
    "hardware": {
     "accelerator": null,
     "gpuPoolId": null,
     "memory": "HIGH"
    }
   },
   "dashboards": [],
   "environmentMetadata": {
    "base_environment": "",
    "environment_version": "2"
   },
   "inputWidgetPreferences": null,
   "language": "python",
   "notebookMetadata": {
    "mostRecentlyExecutedCommandWithImplicitDF": {
     "commandId": 7630791541578921,
     "dataframes": [
      "_sqldf"
     ]
    },
    "pythonIndentUnit": 4
   },
   "notebookName": "DMC Taller Evaluado 04 - Mario Alonso Vento Alvarado",
   "widgets": {}
  },
  "language_info": {
   "name": "python"
  }
 },
 "nbformat": 4,
 "nbformat_minor": 0
}
